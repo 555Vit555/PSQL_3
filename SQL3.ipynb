{
 "cells": [
  {
   "cell_type": "code",
   "execution_count": 2,
   "metadata": {},
   "outputs": [],
   "source": [
    "import psycopg2\n",
    "\n",
    "def create_DB(cur):\n",
    "    cur.execute('''\n",
    "        CREATE TABLE IF NOT EXISTS clients (\n",
    "            id SERIAL PRIMARY KEY,\n",
    "            name VARCHAR(255) NOT NULL,\n",
    "            surname VARCHAR(255) NOT NULL,\n",
    "            email VARCHAR(255) NOT NULL);\n",
    "            ''')\n",
    "    cur.execute('''\n",
    "        CREATE TABLE IF NOT EXISTS phones (\n",
    "            phone_number VARCHAR(11) PRIMARY KEY,\n",
    "            client_id INTEGER REFERENCES clients(id)           \n",
    "            );\n",
    "            ''')\n",
    "    return\n",
    " \n",
    "\n"
   ]
  },
  {
   "cell_type": "code",
   "execution_count": 3,
   "metadata": {},
   "outputs": [],
   "source": [
    "def test(cur):\n",
    "    \n",
    "    cur.execute('''\n",
    "        SELECT * FROM clients;\n",
    "        ''')\n",
    "    print('fetchall', cur.fetchall())\n",
    "    cur.execute('''\n",
    "        SELECT * FROM phones;\n",
    "        ''')\n",
    "    print('fetchall', cur.fetchall())\n",
    "    return"
   ]
  },
  {
   "cell_type": "code",
   "execution_count": 4,
   "metadata": {},
   "outputs": [],
   "source": [
    "def add_phone(cur, phone_number, client_id):\n",
    "    cur.execute('''\n",
    "        insert into phones (phone_number, client_id)\n",
    "        values (%s, %s);\n",
    "        ''', (phone_number, client_id))\n",
    "    return client_id"
   ]
  },
  {
   "cell_type": "code",
   "execution_count": 5,
   "metadata": {},
   "outputs": [],
   "source": [
    "def add_client(cur, name=None, surname=None, email=None, phone_number=None):\n",
    "    cur.execute('''\n",
    "        INSERT INTO clients (name, surname, email)\n",
    "        VALUES (%s, %s, %s);\n",
    "        ''', (name, surname, email))\n",
    "    \n",
    "    cur.execute(\"\"\"\n",
    "        SELECT id from clients\n",
    "        ORDER BY id DESC\n",
    "        LIMIT 1\n",
    "        \"\"\")\n",
    "    \n",
    "    id = cur.fetchone()[0]\n",
    "    if phone_number is None:\n",
    "        return id\n",
    "    else: \n",
    "        add_phone(cur, phone_number, id)\n",
    "        return id\n",
    "    \n",
    "    "
   ]
  },
  {
   "cell_type": "code",
   "execution_count": 6,
   "metadata": {},
   "outputs": [],
   "source": [
    "def update_client(cur, id, name=None, surname=None, email=None):\n",
    "    cur.execute(\"\"\" \n",
    "        SELECT * from clients\n",
    "        WHERE id = %s\n",
    "        \"\"\", (id, ))\n",
    "    info = cur.fetchone()\n",
    "    \n",
    "    if name is None:\n",
    "        name = info[1]\n",
    "    if surname is None:\n",
    "        surname = info[2]\n",
    "    if email is None:\n",
    "        email = info[3]\n",
    "    cur.execute(\"\"\"\n",
    "        UPDATE clients\n",
    "        SET name = %s, surname = %s, email =%s \n",
    "        where id = %s\n",
    "        \"\"\", (name, surname, email, id)) \n",
    "    return"
   ]
  },
  {
   "cell_type": "code",
   "execution_count": 7,
   "metadata": {},
   "outputs": [],
   "source": [
    "def delete_phone(cur, phone_number):\n",
    "    cur.execute(\"\"\"\n",
    "        DELETE FROM phones \n",
    "        WHERE phone_number = %s\n",
    "        \"\"\", (phone_number, ))\n",
    "    return phone_number"
   ]
  },
  {
   "cell_type": "code",
   "execution_count": 8,
   "metadata": {},
   "outputs": [],
   "source": [
    "def delete_client(cur, id):\n",
    "    cur.execute(\"\"\"\n",
    "        DELETE FROM phones\n",
    "        WHERE client_id = %s\n",
    "        \"\"\", (id, ))\n",
    "    cur.execute(\"\"\"\n",
    "        DELETE FROM clients \n",
    "        WHERE id = %s\n",
    "       \"\"\", (id,))\n",
    "    return id"
   ]
  },
  {
   "cell_type": "code",
   "execution_count": 16,
   "metadata": {},
   "outputs": [],
   "source": [
    "def find_client(cur, name=None, surname=None, email=None, phone_number=None):\n",
    "    if name is None:\n",
    "        name = '%'\n",
    "    else:\n",
    "        name = '%' + name + '%'\n",
    "    if surname is None:\n",
    "        surname = '%'\n",
    "    else:\n",
    "        surname = '%' + surname + '%'\n",
    "    if email is None:\n",
    "        email = '%'\n",
    "    else:\n",
    "        email = '%' + email + '%'\n",
    "    if phone_number is None:\n",
    "        cur.execute(\"\"\"\n",
    "            SELECT c.id, c.name, c.surname, c.email, p.phone_number FROM clients c\n",
    "            LEFT JOIN phones p ON c.id = p.client_id\n",
    "            WHERE c.name LIKE %s AND c.surname LIKE %s\n",
    "            AND c.email LIKE %s\n",
    "            \"\"\", (name, surname, email))\n",
    "    else:\n",
    "        cur.execute(\"\"\"\n",
    "             SELECT c.id, c.name, c.surname, c.email, p.phone_number FROM clients c\n",
    "             LEFT JOIN phones p ON c.id = p.client_id\n",
    "             WHERE c.name LIKE %s AND c.surname LIKE %s\n",
    "             AND c.email LIKE %s AND p.phone_number like %s\n",
    "             \"\"\", (name, surname, email, phone_number))\n",
    "    \n",
    "    return cur.fetchall()\n",
    "\n",
    "        \n"
   ]
  },
  {
   "cell_type": "code",
   "execution_count": 10,
   "metadata": {},
   "outputs": [],
   "source": [
    "def delete_DB(cur):\n",
    "    # cur.execute(\"\"\" \n",
    "    #     SELECT * from clients\n",
    "    #     \"\"\")\n",
    "    # i = cur.fetchone()\n",
    "    # if i is not None:\n",
    "        cur.execute(\"\"\"\n",
    "        DROP TABLE clients, phones CASCADE;\n",
    "        \"\"\")\n",
    "   "
   ]
  },
  {
   "cell_type": "code",
   "execution_count": 11,
   "metadata": {},
   "outputs": [],
   "source": [
    "#удаляем БД \n",
    "if __name__ == '__main__':\n",
    "    with psycopg2.connect(database=\"netology_DB\", user=\"postgres\", password=\"1\") as conn:\n",
    "        with conn.cursor() as curs:\n",
    "            #удаляем БД\n",
    "            delete_DB(curs)"
   ]
  },
  {
   "cell_type": "code",
   "execution_count": 23,
   "metadata": {},
   "outputs": [
    {
     "name": "stdout",
     "output_type": "stream",
     "text": [
      "База данных создана\n",
      "fetchall [(2, 'name2', 'surname2', '22@mail.com'), (3, 'name8', 'surname8', '88@mail.com'), (4, 'name9', 'surname9', '99@mail.com'), (5, 'name10', 'surname10', '1010@mail.com'), (1, 'name1', 'surname1', '11111@gmail.com')]\n",
      "fetchall [('89999999992', 2), ('89999999910', 5), ('89999999111', 1)]\n",
      "[(4, 'name9', 'surname9', '99@mail.com', None)]\n",
      "[(3, 'name8', 'surname8', '88@mail.com', None)]\n",
      "[(2, 'name2', 'surname2', '22@mail.com', '89999999992')]\n"
     ]
    }
   ],
   "source": [
    "#Создаем и заполняем БД\n",
    "if __name__ == '__main__':\n",
    "    with psycopg2.connect(database=\"netology_DB\", user=\"postgres\", password=\"1\") as conn:\n",
    "        with conn.cursor() as curs:\n",
    "            delete_DB(curs)\n",
    "            \n",
    "            create_DB(curs)\n",
    "            print(\"База данных создана\")\n",
    "            #test(curs)\n",
    "            add_client(curs, \"name1\", \"surname1\", \"11@mail.com\", \"89999999991\")\n",
    "            add_client(curs, \"name2\", \"surname2\", \"22@mail.com\", \"89999999992\")\n",
    "            add_client(curs, \"name8\", \"surname8\", \"88@mail.com\")\n",
    "            add_client(curs, \"name9\", \"surname9\", \"99@mail.com\")\n",
    "            add_client(curs, \"name10\", \"surname10\", \"1010@mail.com\", \"89999999910\")\n",
    "            #test(curs)\n",
    "            add_phone(curs, \"89999999111\", 1)\n",
    "            #test(curs)\n",
    "            update_client(curs, 1, \"name1\", \"surname1\", \"11111@gmail.com\")\n",
    "            #test(curs)\n",
    "            delete_phone(curs, \"89999999991\")\n",
    "            test(curs)\n",
    "            #delete_client(curs, 1)\n",
    "            #test(curs)\n",
    "            print(find_client(curs, 'name9'))\n",
    "            print(find_client(curs, None, None, '88@mail.com'))\n",
    "            print(find_client(curs, None, None, None, '89999999992'))"
   ]
  }
 ],
 "metadata": {
  "kernelspec": {
   "display_name": "Python 3",
   "language": "python",
   "name": "python3"
  },
  "language_info": {
   "codemirror_mode": {
    "name": "ipython",
    "version": 3
   },
   "file_extension": ".py",
   "mimetype": "text/x-python",
   "name": "python",
   "nbconvert_exporter": "python",
   "pygments_lexer": "ipython3",
   "version": "3.11.4"
  },
  "orig_nbformat": 4
 },
 "nbformat": 4,
 "nbformat_minor": 2
}
